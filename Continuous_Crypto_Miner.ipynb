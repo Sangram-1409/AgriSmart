{
  "cells": [
    {
      "cell_type": "markdown",
      "metadata": {
        "id": "view-in-github",
        "colab_type": "text"
      },
      "source": [
        "<a href=\"https://colab.research.google.com/github/Sangram-1409/AgriSmart/blob/main/Continuous_Crypto_Miner.ipynb\" target=\"_parent\"><img src=\"https://colab.research.google.com/assets/colab-badge.svg\" alt=\"Open In Colab\"/></a>"
      ]
    },
    {
      "cell_type": "code",
      "source": [
        "# This Python script serves as a simple, continuous crypto miner.\n",
        "# It is designed to work with a simplified blockchain (like the one we built previously).\n",
        "\n",
        "# The miner's sole job is to find a valid hash for a new block by\n",
        "# continuously incrementing the 'nonce' until the hash meets a specific difficulty requirement.\n",
        "\n",
        "# This script can be run in parallel with a blockchain script that generates transactions.\n",
        "\n",
        "import hashlib\n",
        "import json\n",
        "import time\n",
        "import os\n",
        "import threading\n",
        "import sys\n",
        "\n",
        "# The target difficulty for the mining puzzle.\n",
        "# A higher number of leading zeros means more difficult mining.\n",
        "DIFFICULTY = 4\n",
        "\n",
        "# This class represents the data that a miner would receive from a network.\n",
        "# In a real network, this data would be broadcast to all miners.\n",
        "class MiningJob:\n",
        "    \"\"\"A data structure representing the information needed to mine a block.\"\"\"\n",
        "    def __init__(self, index, transactions, previous_hash):\n",
        "        self.index = index\n",
        "        self.transactions = transactions\n",
        "        self.previous_hash = previous_hash\n",
        "\n",
        "    def __str__(self):\n",
        "        \"\"\"Provides a string representation of the mining job.\"\"\"\n",
        "        return (f\"Mining Job for Block #{self.index}\\n\"\n",
        "                f\"Previous Hash: {self.previous_hash[:15]}...\\n\"\n",
        "                f\"Transactions: {self.transactions}\\n\")\n",
        "\n",
        "# A simple miner that continuously tries to find a valid hash.\n",
        "class Miner:\n",
        "    \"\"\"A miner that performs Proof-of-Work to find a valid block hash.\"\"\"\n",
        "    def __init__(self, job, difficulty):\n",
        "        \"\"\"Initializes the miner with a job and difficulty level.\"\"\"\n",
        "        self.job = job\n",
        "        self.difficulty = difficulty\n",
        "        self.nonce = 0\n",
        "        self.hash = \"\"\n",
        "\n",
        "    def calculate_hash(self):\n",
        "        \"\"\"Calculates the SHA-256 hash for the current job and nonce.\"\"\"\n",
        "        block_string = json.dumps({\n",
        "            \"index\": self.job.index,\n",
        "            \"transactions\": self.job.transactions,\n",
        "            \"timestamp\": time.time(), # The timestamp is set at the time of mining\n",
        "            \"previous_hash\": self.job.previous_hash,\n",
        "            \"nonce\": self.nonce\n",
        "        }, sort_keys=True).encode()\n",
        "\n",
        "        return hashlib.sha256(block_string).hexdigest()\n",
        "\n",
        "    def mine(self):\n",
        "        \"\"\"\n",
        "        Performs the Proof-of-Work by trying different nonces.\n",
        "        Returns the valid hash and the nonce used to find it.\n",
        "        \"\"\"\n",
        "        target = \"0\" * self.difficulty\n",
        "        start_time = time.time()\n",
        "\n",
        "        print(\"Miner started. Looking for a hash with\", self.difficulty, \"leading zeros...\")\n",
        "\n",
        "        while not self.hash.startswith(target):\n",
        "            self.nonce += 1\n",
        "            self.hash = self.calculate_hash()\n",
        "            # Provides live feedback on the mining process\n",
        "            sys.stdout.write(f\"\\rMining... nonce: {self.nonce:,}, hash: {self.hash[:20]}...\")\n",
        "            sys.stdout.flush()\n",
        "\n",
        "        end_time = time.time()\n",
        "        print(f\"\\n✅ Found valid hash after {self.nonce:,} attempts in {end_time - start_time:.2f} seconds!\")\n",
        "        print(f\"Hash: {self.hash}\")\n",
        "\n",
        "        return self.hash, self.nonce\n",
        "\n",
        "# --- Main demonstration script ---\n",
        "if __name__ == \"__main__\":\n",
        "    # In a real network, the mining job would be received from the blockchain.\n",
        "    # We will simulate a job here for demonstration purposes.\n",
        "\n",
        "    # This represents a job to mine Block #1, with a previous hash from a \"genesis block\"\n",
        "    # and a set of transactions.\n",
        "    dummy_transactions = [\n",
        "        {\"from\": \"Bob\", \"to\": \"Alice\", \"amount\": 10},\n",
        "        {\"from\": \"Charlie\", \"to\": \"Bob\", \"amount\": 5}\n",
        "    ]\n",
        "\n",
        "    # This is a sample previous hash from a \"genesis block\"\n",
        "    previous_hash = \"0000216b5a34f4d1c4f5b5f6e8c7c9c0d1b3e8a719d3f4b6a8a3c5d6e7f8g9h0\"\n",
        "\n",
        "    # Create the mining job\n",
        "    mining_job = MiningJob(index=1, transactions=dummy_transactions, previous_hash=previous_hash)\n",
        "\n",
        "    # Initialize and run the miner\n",
        "    miner = Miner(job=mining_job, difficulty=DIFFICULTY)\n",
        "\n",
        "    try:\n",
        "        mined_hash, mined_nonce = miner.mine()\n",
        "        print(\"\\n--- Mining Completed ---\")\n",
        "        print(f\"Block Index: {mining_job.index}\")\n",
        "        print(f\"Transactions: {mining_job.transactions}\")\n",
        "        print(f\"Nonce: {mined_nonce}\")\n",
        "        print(f\"Final Hash: {mined_hash}\")\n",
        "        print(\"--------------------------\")\n",
        "    except KeyboardInterrupt:\n",
        "        print(\"\\nMiner stopped by user.\")"
      ],
      "outputs": [
        {
          "output_type": "stream",
          "name": "stdout",
          "text": [
            "Miner started. Looking for a hash with 4 leading zeros...\n",
            "Mining... nonce: 31,574, hash: c5c8540eb952309bdfc1..."
          ]
        }
      ],
      "execution_count": null,
      "metadata": {
        "colab": {
          "base_uri": "https://localhost:8080/"
        },
        "id": "g-qhcy_FFD9S",
        "outputId": "918a91e9-deb9-43a7-d765-3b3031335868"
      }
    }
  ],
  "metadata": {
    "colab": {
      "provenance": [],
      "include_colab_link": true
    },
    "kernelspec": {
      "display_name": "Python 3",
      "name": "python3"
    }
  },
  "nbformat": 4,
  "nbformat_minor": 0
}